{
 "cells": [
  {
   "cell_type": "code",
   "execution_count": 111,
   "metadata": {},
   "outputs": [],
   "source": [
    "import pandas as pd\n",
    "import numpy as np\n",
    "from math import sqrt\n",
    "from scipy.stats import norm\n",
    "import matplotlib.pyplot as plt\n",
    "import statsmodels.api as sm"
   ]
  },
  {
   "cell_type": "code",
   "execution_count": 51,
   "metadata": {},
   "outputs": [],
   "source": [
    "filename = \"cable.csv\"\n",
    "input_data = pd.read_csv(filename, index_col = ['Date']).dropna()"
   ]
  },
  {
   "cell_type": "code",
   "execution_count": 52,
   "metadata": {},
   "outputs": [
    {
     "data": {
      "text/html": [
       "<div>\n",
       "<style scoped>\n",
       "    .dataframe tbody tr th:only-of-type {\n",
       "        vertical-align: middle;\n",
       "    }\n",
       "\n",
       "    .dataframe tbody tr th {\n",
       "        vertical-align: top;\n",
       "    }\n",
       "\n",
       "    .dataframe thead th {\n",
       "        text-align: right;\n",
       "    }\n",
       "</style>\n",
       "<table border=\"1\" class=\"dataframe\">\n",
       "  <thead>\n",
       "    <tr style=\"text-align: right;\">\n",
       "      <th></th>\n",
       "      <th>Open</th>\n",
       "      <th>High</th>\n",
       "      <th>Low</th>\n",
       "      <th>Close</th>\n",
       "      <th>Adj Close</th>\n",
       "      <th>Volume</th>\n",
       "    </tr>\n",
       "    <tr>\n",
       "      <th>Date</th>\n",
       "      <th></th>\n",
       "      <th></th>\n",
       "      <th></th>\n",
       "      <th></th>\n",
       "      <th></th>\n",
       "      <th></th>\n",
       "    </tr>\n",
       "  </thead>\n",
       "  <tbody>\n",
       "    <tr>\n",
       "      <th>01/12/2003</th>\n",
       "      <td>1.723811</td>\n",
       "      <td>1.727205</td>\n",
       "      <td>1.718390</td>\n",
       "      <td>1.718597</td>\n",
       "      <td>1.718597</td>\n",
       "      <td>0.0</td>\n",
       "    </tr>\n",
       "    <tr>\n",
       "      <th>02/12/2003</th>\n",
       "      <td>1.719010</td>\n",
       "      <td>1.732112</td>\n",
       "      <td>1.717298</td>\n",
       "      <td>1.730313</td>\n",
       "      <td>1.730313</td>\n",
       "      <td>0.0</td>\n",
       "    </tr>\n",
       "    <tr>\n",
       "      <th>03/12/2003</th>\n",
       "      <td>1.730493</td>\n",
       "      <td>1.731812</td>\n",
       "      <td>1.725209</td>\n",
       "      <td>1.728101</td>\n",
       "      <td>1.728101</td>\n",
       "      <td>0.0</td>\n",
       "    </tr>\n",
       "    <tr>\n",
       "      <th>04/12/2003</th>\n",
       "      <td>1.727414</td>\n",
       "      <td>1.728997</td>\n",
       "      <td>1.718302</td>\n",
       "      <td>1.720697</td>\n",
       "      <td>1.720697</td>\n",
       "      <td>0.0</td>\n",
       "    </tr>\n",
       "    <tr>\n",
       "      <th>05/12/2003</th>\n",
       "      <td>1.720608</td>\n",
       "      <td>1.733102</td>\n",
       "      <td>1.719809</td>\n",
       "      <td>1.733102</td>\n",
       "      <td>1.733102</td>\n",
       "      <td>0.0</td>\n",
       "    </tr>\n",
       "    <tr>\n",
       "      <th>...</th>\n",
       "      <td>...</td>\n",
       "      <td>...</td>\n",
       "      <td>...</td>\n",
       "      <td>...</td>\n",
       "      <td>...</td>\n",
       "      <td>...</td>\n",
       "    </tr>\n",
       "    <tr>\n",
       "      <th>13/01/2023</th>\n",
       "      <td>1.221643</td>\n",
       "      <td>1.224695</td>\n",
       "      <td>1.215185</td>\n",
       "      <td>1.221777</td>\n",
       "      <td>1.221777</td>\n",
       "      <td>0.0</td>\n",
       "    </tr>\n",
       "    <tr>\n",
       "      <th>16/01/2023</th>\n",
       "      <td>1.222464</td>\n",
       "      <td>1.228864</td>\n",
       "      <td>1.217434</td>\n",
       "      <td>1.222673</td>\n",
       "      <td>1.222673</td>\n",
       "      <td>0.0</td>\n",
       "    </tr>\n",
       "    <tr>\n",
       "      <th>17/01/2023</th>\n",
       "      <td>1.220882</td>\n",
       "      <td>1.229982</td>\n",
       "      <td>1.217063</td>\n",
       "      <td>1.220778</td>\n",
       "      <td>1.220778</td>\n",
       "      <td>0.0</td>\n",
       "    </tr>\n",
       "    <tr>\n",
       "      <th>18/01/2023</th>\n",
       "      <td>1.228365</td>\n",
       "      <td>1.243317</td>\n",
       "      <td>1.225655</td>\n",
       "      <td>1.228471</td>\n",
       "      <td>1.228471</td>\n",
       "      <td>0.0</td>\n",
       "    </tr>\n",
       "    <tr>\n",
       "      <th>19/01/2023</th>\n",
       "      <td>1.234949</td>\n",
       "      <td>1.234949</td>\n",
       "      <td>1.231406</td>\n",
       "      <td>1.233411</td>\n",
       "      <td>1.233411</td>\n",
       "      <td>0.0</td>\n",
       "    </tr>\n",
       "  </tbody>\n",
       "</table>\n",
       "<p>4977 rows × 6 columns</p>\n",
       "</div>"
      ],
      "text/plain": [
       "                Open      High       Low     Close  Adj Close  Volume\n",
       "Date                                                                 \n",
       "01/12/2003  1.723811  1.727205  1.718390  1.718597   1.718597     0.0\n",
       "02/12/2003  1.719010  1.732112  1.717298  1.730313   1.730313     0.0\n",
       "03/12/2003  1.730493  1.731812  1.725209  1.728101   1.728101     0.0\n",
       "04/12/2003  1.727414  1.728997  1.718302  1.720697   1.720697     0.0\n",
       "05/12/2003  1.720608  1.733102  1.719809  1.733102   1.733102     0.0\n",
       "...              ...       ...       ...       ...        ...     ...\n",
       "13/01/2023  1.221643  1.224695  1.215185  1.221777   1.221777     0.0\n",
       "16/01/2023  1.222464  1.228864  1.217434  1.222673   1.222673     0.0\n",
       "17/01/2023  1.220882  1.229982  1.217063  1.220778   1.220778     0.0\n",
       "18/01/2023  1.228365  1.243317  1.225655  1.228471   1.228471     0.0\n",
       "19/01/2023  1.234949  1.234949  1.231406  1.233411   1.233411     0.0\n",
       "\n",
       "[4977 rows x 6 columns]"
      ]
     },
     "execution_count": 52,
     "metadata": {},
     "output_type": "execute_result"
    }
   ],
   "source": [
    "input_data"
   ]
  },
  {
   "cell_type": "code",
   "execution_count": 57,
   "metadata": {},
   "outputs": [
    {
     "data": {
      "text/plain": [
       "0.006033537207702337"
      ]
     },
     "execution_count": 57,
     "metadata": {},
     "output_type": "execute_result"
    }
   ],
   "source": [
    "prices = input_data['Close']\n",
    "((prices - prices.shift(1)) / prices.shift(1)).std()"
   ]
  },
  {
   "cell_type": "code",
   "execution_count": 72,
   "metadata": {},
   "outputs": [
    {
     "name": "stdout",
     "output_type": "stream",
     "text": [
      "-4.818111095598128e-05\n",
      "0.006067594374693527\n"
     ]
    }
   ],
   "source": [
    "prices = input_data['Close'].iloc[::2]\n",
    "print(((prices - prices.shift(1)) / prices.shift(1)).mean() / 2)\n",
    "print(((prices - prices.shift(1)) / prices.shift(1)).std() / sqrt(2))"
   ]
  },
  {
   "cell_type": "code",
   "execution_count": 69,
   "metadata": {},
   "outputs": [
    {
     "data": {
      "text/plain": [
       "0.006092371929923271"
      ]
     },
     "execution_count": 69,
     "metadata": {},
     "output_type": "execute_result"
    }
   ],
   "source": [
    "prices = input_data['Close'][::5]\n",
    "((prices - prices.shift(1)) / prices.shift(1)).std() / sqrt(5)"
   ]
  },
  {
   "cell_type": "code",
   "execution_count": 71,
   "metadata": {},
   "outputs": [
    {
     "name": "stdout",
     "output_type": "stream",
     "text": [
      "-5.0059224453784446e-05\n",
      "0.00611930578615932\n"
     ]
    }
   ],
   "source": [
    "prices = input_data['Close'][1::2]\n",
    "print(((prices - prices.shift(1)) / prices.shift(1)).mean() / 2)\n",
    "print(((prices - prices.shift(1)) / prices.shift(1)).std() / sqrt(2))"
   ]
  },
  {
   "cell_type": "code",
   "execution_count": 79,
   "metadata": {},
   "outputs": [],
   "source": [
    "prices = input_data['Close']\n",
    "returns = ((prices - prices.shift(1)) / prices.shift(1))[1:]\n",
    "scaled_returns = (returns - returns.mean()) / returns.std()"
   ]
  },
  {
   "cell_type": "code",
   "execution_count": 103,
   "metadata": {},
   "outputs": [],
   "source": [
    "y = scaled_returns.sort_values().values"
   ]
  },
  {
   "cell_type": "code",
   "execution_count": 109,
   "metadata": {},
   "outputs": [],
   "source": [
    "x = norm.ppf(np.array(range(1,len(scaled_returns)+1)) / len(scaled_returns))"
   ]
  },
  {
   "cell_type": "code",
   "execution_count": 110,
   "metadata": {
    "scrolled": true
   },
   "outputs": [
    {
     "data": {
      "image/png": "[encoded data removed]",
      "text/plain": [
       "<Figure size 432x288 with 1 Axes>"
      ]
     },
     "metadata": {
      "needs_background": "light"
     },
     "output_type": "display_data"
    }
   ],
   "source": [
    "plt.scatter(x,y)\n",
    "plt.show()"
   ]
  },
  {
   "cell_type": "code",
   "execution_count": 113,
   "metadata": {},
   "outputs": [
    {
     "data": {
      "image/png": "[encoded data removed]",
      "text/plain": [
       "<Figure size 432x288 with 1 Axes>"
      ]
     },
     "execution_count": 113,
     "metadata": {},
     "output_type": "execute_result"
    },
    {
     "data": {
      "image/png": "[encoded data removed]",
      "text/plain": [
       "<Figure size 432x288 with 1 Axes>"
      ]
     },
     "metadata": {
      "needs_background": "light"
     },
     "output_type": "display_data"
    }
   ],
   "source": [
    "sm.qqplot(y, line='s')"
   ]
  },
  {
   "cell_type": "code",
   "execution_count": null,
   "metadata": {},
   "outputs": [],
   "source": []
  }
 ],
 "metadata": {
  "kernelspec": {
   "display_name": "Python 3",
   "language": "python",
   "name": "python3"
  },
  "language_info": {
   "codemirror_mode": {
    "name": "ipython",
    "version": 3
   },
   "file_extension": ".py",
   "mimetype": "text/x-python",
   "name": "python",
   "nbconvert_exporter": "python",
   "pygments_lexer": "ipython3",
   "version": "3.8.3"
  }
 },
 "nbformat": 4,
 "nbformat_minor": 4
}
