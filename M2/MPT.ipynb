{
 "cells": [
  {
   "cell_type": "code",
   "execution_count": 123,
   "metadata": {},
   "outputs": [],
   "source": [
    "import numpy as np\n",
    "import matplotlib.pyplot as plt\n",
    "from math import sqrt, log\n",
    "import random"
   ]
  },
  {
   "cell_type": "code",
   "execution_count": 12,
   "metadata": {},
   "outputs": [],
   "source": [
    "mu1 = 0.1\n",
    "mu2 = 0.2\n",
    "sigma1 = 0.2\n",
    "sigma2 = 0.3\n",
    "rho = 0.3\n",
    "r = 0.05"
   ]
  },
  {
   "cell_type": "code",
   "execution_count": 13,
   "metadata": {},
   "outputs": [],
   "source": [
    "omega = np.linspace(0,1, 101)"
   ]
  },
  {
   "cell_type": "code",
   "execution_count": 14,
   "metadata": {},
   "outputs": [],
   "source": [
    "mu = mu1 * omega + mu2 * (1 - omega)\n",
    "sigma = np.sqrt((sigma1 ** 2) * omega ** 2 + (sigma2 ** 2) * (1 - omega) ** 2 + 2 * rho * sigma1 * sigma2 * omega.dot(1 - omega))"
   ]
  },
  {
   "cell_type": "code",
   "execution_count": 15,
   "metadata": {},
   "outputs": [
    {
     "data": {
      "image/png": "[encoded data removed]",
      "text/plain": [
       "<Figure size 432x288 with 1 Axes>"
      ]
     },
     "metadata": {
      "needs_background": "light"
     },
     "output_type": "display_data"
    }
   ],
   "source": [
    "#import plotly.graph_objects as go\n",
    "\n",
    "#fig = go.Figure(data=go.Scatter(x=sigma, y=mu))\n",
    "#fig.show()\n",
    "plt.plot(sigma, mu)\n",
    "plt.show()"
   ]
  },
  {
   "cell_type": "code",
   "execution_count": 16,
   "metadata": {},
   "outputs": [
    {
     "data": {
      "text/plain": [
       "[<matplotlib.lines.Line2D at 0x7fe0d57dbf70>]"
      ]
     },
     "execution_count": 16,
     "metadata": {},
     "output_type": "execute_result"
    },
    {
     "data": {
      "image/png": "[encoded data removed]",
      "text/plain": [
       "<Figure size 432x288 with 1 Axes>"
      ]
     },
     "metadata": {
      "needs_background": "light"
     },
     "output_type": "display_data"
    }
   ],
   "source": [
    "plt.plot(omega, ((mu - r) / sigma))"
   ]
  },
  {
   "cell_type": "code",
   "execution_count": 390,
   "metadata": {},
   "outputs": [],
   "source": [
    "mu = np.array([\n",
    "        [0.05], \n",
    "        [0.07], \n",
    "        [0.15], \n",
    "        [0.27],\n",
    "    ])\n",
    "\n",
    "sigma = np.array([\n",
    "        [0.07], \n",
    "        [0.12], \n",
    "        [0.3], \n",
    "        [0.6],\n",
    "    ])\n",
    "\n",
    "rho = np.array([   \n",
    "        [1, 0.8, 0.5, 0.4], \n",
    "        [0.8, 1, 0.7, 0.5], \n",
    "        [0.5, 0.7, 1, 0.8], \n",
    "        [0.4, 0.5, 0.8, 1]\n",
    "    ])"
   ]
  },
  {
   "cell_type": "code",
   "execution_count": 391,
   "metadata": {},
   "outputs": [],
   "source": [
    "cov = np.diag(sigma.flatten()) @ rho @ np.diag(sigma.flatten())\n",
    "I = np.ones(len(mu)).reshape(len(mu), 1)\n",
    "inv_cov = np.linalg.inv(cov)\n",
    "A = I.T @ inv_cov @ I\n",
    "B = I.T @ inv_cov @ mu\n",
    "C = mu.T @ inv_cov @ mu\n",
    "min_variance_p = (1 / A) * inv_cov @ I\n",
    "min_variance_r = B / A\n",
    "min_variance_vol = np.sqrt (min_variance_p.T @ cov @ min_variance_p)"
   ]
  },
  {
   "cell_type": "code",
   "execution_count": 361,
   "metadata": {},
   "outputs": [],
   "source": [
    "m = 0.1\n",
    "omega = (1 / (A * C - B ** 2)) * inv_cov @ ((A * mu - B * I) * m + (C * I - B * mu))\n",
    "vol = np.sqrt(omega.T @ cov @ omega)"
   ]
  },
  {
   "cell_type": "code",
   "execution_count": 362,
   "metadata": {},
   "outputs": [],
   "source": [
    "r = 0.025\n",
    "tangency_p = (1 / (B - A * r)) * inv_cov @ (mu - r * I)\n",
    "omega_r = (m - r) * inv_cov @ (mu - r * I) / ((mu - r * I).T @ inv_cov @ (mu - r * I))\n",
    "vol_r = np.sqrt(omega_r.T @ cov @ omega_r)"
   ]
  },
  {
   "cell_type": "code",
   "execution_count": 30,
   "metadata": {},
   "outputs": [
    {
     "data": {
      "text/plain": [
       "0.16132773234950296"
      ]
     },
     "execution_count": 30,
     "metadata": {},
     "output_type": "execute_result"
    }
   ],
   "source": [
    "float(vol)"
   ]
  },
  {
   "cell_type": "code",
   "execution_count": 163,
   "metadata": {},
   "outputs": [],
   "source": [
    "import scipy.optimize as sco\n",
    "\n",
    "def portfolio_variance (w):\n",
    "    return w.T @ cov @ w\n",
    "\n",
    "def neg_sharpe_ratio(w):\n",
    "    return (-1) * (w.T @ mu - r) / sqrt (portfolio_variance(w))\n",
    "\n",
    "def neg_portfolio_return (w):\n",
    "    return ((-1) * w.T @ mu)"
   ]
  },
  {
   "cell_type": "code",
   "execution_count": 23,
   "metadata": {},
   "outputs": [
    {
     "data": {
      "text/plain": [
       "     fun: 0.004178085953590705\n",
       "     jac: array([0.00835617, 0.00835617, 0.00835617, 0.00835617])\n",
       " message: 'Optimization terminated successfully'\n",
       "    nfev: 90\n",
       "     nit: 18\n",
       "    njev: 18\n",
       "  status: 0\n",
       " success: True\n",
       "       x: array([ 1.27488666, -0.26311262,  0.01633934, -0.02811338])"
      ]
     },
     "execution_count": 23,
     "metadata": {},
     "output_type": "execute_result"
    }
   ],
   "source": [
    "cons = ({'type': 'eq', 'fun': lambda x: x.T @ I - 1})\n",
    "bnds = tuple((-5, 5) for x in range(len(mu)))\n",
    "initial_w = np.array(len(mu)*[1./len(mu)])\n",
    "\n",
    "sco.minimize(portfolio_variance, initial_w, method='SLSQP', bounds=bnds, constraints=cons, tol=1e-15)"
   ]
  },
  {
   "cell_type": "code",
   "execution_count": 24,
   "metadata": {},
   "outputs": [
    {
     "data": {
      "text/plain": [
       "     fun: 0.02602663722503283\n",
       "     jac: array([0.01552534, 0.03013651, 0.08858121, 0.17624826])\n",
       " message: 'Optimization terminated successfully'\n",
       "    nfev: 55\n",
       "     nit: 11\n",
       "    njev: 11\n",
       "  status: 0\n",
       " success: True\n",
       "       x: array([0.52841211, 0.17288806, 0.15976436, 0.13893547])"
      ]
     },
     "execution_count": 24,
     "metadata": {},
     "output_type": "execute_result"
    }
   ],
   "source": [
    "cons = ({'type': 'eq', 'fun': lambda x: x.T @ mu - m},\n",
    "        {'type': 'eq', 'fun': lambda x: x.T @ I - 1})\n",
    "bnds = tuple((-5, 5) for x in range(len(mu)))\n",
    "initial_w = np.array(len(mu)*[1./len(mu)])\n",
    "\n",
    "sco.minimize(portfolio_variance, initial_w, method='SLSQP', bounds=bnds, constraints=cons, tol=1e-15)"
   ]
  },
  {
   "cell_type": "code",
   "execution_count": 366,
   "metadata": {},
   "outputs": [
    {
     "data": {
      "text/plain": [
       "     fun: array([-0.46791902])\n",
       "     jac: array([-0.19420321, -0.19420321, -0.19420319, -0.19420318])\n",
       " message: 'Optimization terminated successfully'\n",
       "    nfev: 88\n",
       "     nit: 17\n",
       "    njev: 17\n",
       "  status: 0\n",
       " success: True\n",
       "       x: array([0.71267118, 0.06526608, 0.12436147, 0.09770128])"
      ]
     },
     "execution_count": 366,
     "metadata": {},
     "output_type": "execute_result"
    }
   ],
   "source": [
    "bnds = tuple((-5, 5) for x in range(len(mu)))\n",
    "initial_w = np.array(len(mu)*[1./len(mu)])\n",
    "\n",
    "sco.minimize(neg_sharpe_ratio, initial_w, method='SLSQP', bounds=bnds, constraints=cons, tol=1e-15)"
   ]
  },
  {
   "cell_type": "code",
   "execution_count": 394,
   "metadata": {},
   "outputs": [
    {
     "data": {
      "text/plain": [
       "     fun: 0.02569100733597252\n",
       "     jac: array([0.01712734, 0.03082921, 0.08563669, 0.16784791])\n",
       " message: 'Optimization terminated successfully'\n",
       "    nfev: 111\n",
       "     nit: 22\n",
       "    njev: 22\n",
       "  status: 0\n",
       " success: True\n",
       "       x: array([0.88735247, 0.08126327, 0.15484344, 0.12164861])"
      ]
     },
     "execution_count": 394,
     "metadata": {},
     "output_type": "execute_result"
    }
   ],
   "source": [
    "cons = ({'type': 'eq', 'fun': lambda x: x.T @ mu - m + (1 - x.T @ I) * r})\n",
    "bnds = tuple((-5, 5) for x in range(len(mu)))\n",
    "initial_w = np.array(len(mu)*[1./len(mu)])\n",
    "\n",
    "sco.minimize(portfolio_variance, initial_w, method='SLSQP', bounds=bnds, constraints=cons, tol=1e-15)"
   ]
  },
  {
   "cell_type": "code",
   "execution_count": 32,
   "metadata": {},
   "outputs": [
    {
     "data": {
      "text/plain": [
       "     fun: array([-0.1])\n",
       "     jac: array([-0.05, -0.07, -0.15, -0.27])\n",
       " message: 'Optimization terminated successfully'\n",
       "    nfev: 85\n",
       "     nit: 17\n",
       "    njev: 17\n",
       "  status: 0\n",
       " success: True\n",
       "       x: array([0.52841208, 0.17288809, 0.15976436, 0.13893546])"
      ]
     },
     "execution_count": 32,
     "metadata": {},
     "output_type": "execute_result"
    }
   ],
   "source": [
    "cons = ({'type': 'eq', 'fun': lambda x: x.T @ cov @ x - float(vol) ** 2},\n",
    "        {'type': 'eq', 'fun': lambda x: x.T @ I - 1})\n",
    "bnds = tuple((-5, 5) for x in range(len(mu)))\n",
    "initial_w = np.array(len(mu)*[1./len(mu)])\n",
    "\n",
    "sco.minimize(neg_portfolio_return, initial_w, method='SLSQP', bounds=bnds, constraints=cons, tol=1e-15)"
   ]
  },
  {
   "cell_type": "code",
   "execution_count": 214,
   "metadata": {},
   "outputs": [],
   "source": [
    "np.random.seed()\n",
    "simulation = 2 * np.random.random(size=(len(mu), 10000)) - 1\n",
    "simulation = simulation/simulation.sum(axis=0)"
   ]
  },
  {
   "cell_type": "code",
   "execution_count": 215,
   "metadata": {},
   "outputs": [],
   "source": [
    "sim_vol = []\n",
    "sim_ret = []\n",
    "for i in range(simulation.shape[1]):\n",
    "    weights = simulation[:,i].reshape(len(simulation[:,0]),1)\n",
    "    sim_vol.append(sqrt(weights.T @ cov @ weights))\n",
    "    sim_ret.append(float(weights.T @ mu))"
   ]
  },
  {
   "cell_type": "code",
   "execution_count": 199,
   "metadata": {},
   "outputs": [],
   "source": [
    "target_rets = np.linspace(0, 0.25, 1000)\n",
    "tvols = []\n",
    "for tr in target_rets:\n",
    "    cons = ({'type': 'eq', 'fun': lambda x: x.T @ mu - tr},\n",
    "            {'type': 'eq', 'fun': lambda x: x.T @ I - 1})\n",
    "    bnds = tuple((-5, 5) for x in range(len(mu)))\n",
    "    initial_w = np.array(len(mu)*[1./len(mu)])\n",
    "\n",
    "    opt_ef = sco.minimize(portfolio_variance, initial_w, method='SLSQP', bounds=bnds, constraints=cons, tol=1e-15)\n",
    "    tvols.append(sqrt(opt_ef['fun']))"
   ]
  },
  {
   "cell_type": "code",
   "execution_count": 220,
   "metadata": {
    "scrolled": true
   },
   "outputs": [
    {
     "data": {
      "image/png": "[encoded data removed]",
      "text/plain": [
       "<Figure size 432x288 with 1 Axes>"
      ]
     },
     "metadata": {
      "needs_background": "light"
     },
     "output_type": "display_data"
    }
   ],
   "source": [
    "plt.scatter(sim_vol, sim_ret, s=1)\n",
    "plt.plot(tvols, target_rets, color='red')\n",
    "plt.xlim(0, 0.6)\n",
    "plt.ylim(0, 0.25)\n",
    "plt.show()"
   ]
  },
  {
   "cell_type": "code",
   "execution_count": 384,
   "metadata": {},
   "outputs": [],
   "source": [
    "def get_tangency_portfolio(mu, sigma, rho, r):\n",
    "    cov = np.diag(sigma.flatten()) @ rho @ np.diag(sigma.flatten())\n",
    "    I = np.ones(len(mu)).reshape(len(mu), 1)\n",
    "    inv_cov = np.linalg.inv(cov)\n",
    "    A = I.T @ inv_cov @ I\n",
    "    B = I.T @ inv_cov @ mu\n",
    "    C = mu.T @ inv_cov @ mu\n",
    "    tangency_p = (1 / (B - A * r)) * inv_cov @ (mu - r * I)\n",
    "    return tangency_p\n",
    "\n",
    "def sharpe_ratio (mu, sigma, rho, r):\n",
    "    cov = np.diag(sigma.flatten()) @ rho @ np.diag(sigma.flatten())\n",
    "    omega = get_tangency_portfolio(mu, sigma, rho, r)\n",
    "    ret = omega.T @ mu\n",
    "    vol = sqrt(omega.T @ cov @ omega)\n",
    "    return (ret - r) / vol"
   ]
  },
  {
   "cell_type": "code",
   "execution_count": 223,
   "metadata": {},
   "outputs": [
    {
     "data": {
      "text/plain": [
       "array([[0.71267122],\n",
       "       [0.06526604],\n",
       "       [0.12436147],\n",
       "       [0.09770128]])"
      ]
     },
     "execution_count": 223,
     "metadata": {},
     "output_type": "execute_result"
    }
   ],
   "source": [
    "tangency_p"
   ]
  },
  {
   "cell_type": "code",
   "execution_count": 225,
   "metadata": {
    "scrolled": true
   },
   "outputs": [
    {
     "data": {
      "text/plain": [
       "array([[0.71267122],\n",
       "       [0.06526604],\n",
       "       [0.12436147],\n",
       "       [0.09770128]])"
      ]
     },
     "execution_count": 225,
     "metadata": {},
     "output_type": "execute_result"
    }
   ],
   "source": [
    "get_tangency_portfolio(mu, sigma, rho, r)"
   ]
  },
  {
   "cell_type": "code",
   "execution_count": 379,
   "metadata": {},
   "outputs": [],
   "source": [
    "mu = np.array([\n",
    "        [0.035], \n",
    "        [0.1]\n",
    "    ])\n",
    "\n",
    "sigma = np.array([\n",
    "        [0.07], \n",
    "        [0.2]\n",
    "    ])\n",
    "\n",
    "rho = np.array([   \n",
    "        [1, -0.4], \n",
    "        [-0.4, 1]\n",
    "    ])"
   ]
  },
  {
   "cell_type": "code",
   "execution_count": 326,
   "metadata": {},
   "outputs": [
    {
     "data": {
      "text/plain": [
       "array([[ 1.18181818],\n",
       "       [-0.18181818]])"
      ]
     },
     "execution_count": 326,
     "metadata": {},
     "output_type": "execute_result"
    }
   ],
   "source": [
    "get_tangency_portfolio(mu, sigma, rho, 0.06)"
   ]
  },
  {
   "cell_type": "code",
   "execution_count": 331,
   "metadata": {},
   "outputs": [],
   "source": [
    "rr = np.linspace(-0.05, 0.05, 101)\n",
    "rel_price = np.zeros(101)\n",
    "for i, r in enumerate(rr):\n",
    "    weights = get_tangency_portfolio(mu, sigma, rho, r)\n",
    "    rel_price[i] = weights[1] - weights[0]"
   ]
  },
  {
   "cell_type": "code",
   "execution_count": 337,
   "metadata": {},
   "outputs": [
    {
     "data": {
      "text/plain": [
       "(-5.0, 5.0)"
      ]
     },
     "execution_count": 337,
     "metadata": {},
     "output_type": "execute_result"
    },
    {
     "data": {
      "image/png": "[encoded data removed]",
      "text/plain": [
       "<Figure size 432x288 with 1 Axes>"
      ]
     },
     "metadata": {
      "needs_background": "light"
     },
     "output_type": "display_data"
    }
   ],
   "source": [
    "plt.plot(rr, rel_price)\n",
    "plt.ylim(-5, 5)"
   ]
  },
  {
   "cell_type": "code",
   "execution_count": 288,
   "metadata": {},
   "outputs": [
    {
     "data": {
      "text/plain": [
       "[<matplotlib.lines.Line2D at 0x7fe0d4e65a60>]"
      ]
     },
     "execution_count": 288,
     "metadata": {},
     "output_type": "execute_result"
    },
    {
     "data": {
      "image/png": "[encoded data removed]",
      "text/plain": [
       "<Figure size 432x288 with 1 Axes>"
      ]
     },
     "metadata": {
      "needs_background": "light"
     },
     "output_type": "display_data"
    }
   ],
   "source": [
    "plt.plot(rr, rel_price)"
   ]
  },
  {
   "cell_type": "code",
   "execution_count": 315,
   "metadata": {},
   "outputs": [],
   "source": [
    "r = 0.025\n",
    "rhos = np.linspace(-0.95, 0.95, 201)\n",
    "rel_price = np.zeros(201)\n",
    "for i, rho in enumerate(rhos):\n",
    "    rho_matrix = np.array([   \n",
    "        [1, rho], \n",
    "        [rho, 1]\n",
    "    ])\n",
    "    weights = get_tangency_portfolio(mu, sigma, rho_matrix, r)\n",
    "    rel_price[i] = weights[1] - weights[0]"
   ]
  },
  {
   "cell_type": "code",
   "execution_count": 316,
   "metadata": {},
   "outputs": [
    {
     "data": {
      "text/plain": [
       "(-5.0, 5.0)"
      ]
     },
     "execution_count": 316,
     "metadata": {},
     "output_type": "execute_result"
    },
    {
     "data": {
      "image/png": "[encoded data removed]",
      "text/plain": [
       "<Figure size 432x288 with 1 Axes>"
      ]
     },
     "metadata": {
      "needs_background": "light"
     },
     "output_type": "display_data"
    }
   ],
   "source": [
    "plt.plot(rhos, rel_price)\n",
    "plt.ylim(-5, 5)"
   ]
  },
  {
   "cell_type": "code",
   "execution_count": 324,
   "metadata": {},
   "outputs": [
    {
     "data": {
      "image/png": "[encoded data removed]",
      "text/plain": [
       "<Figure size 432x288 with 1 Axes>"
      ]
     },
     "metadata": {
      "needs_background": "light"
     },
     "output_type": "display_data"
    }
   ],
   "source": [
    "omega = np.linspace(0,1, 101)\n",
    "mu1 = 0.04\n",
    "mu2 = 0.1\n",
    "sigma1 = 0.06\n",
    "sigma2 = 0.2\n",
    "rho = 0.3\n",
    "mu = mu1 * omega + mu2 * (1 - omega)\n",
    "sigma = np.sqrt((sigma1 ** 2) * omega ** 2 + (sigma2 ** 2) * (1 - omega) ** 2 + 2 * rho * sigma1 * sigma2 * omega.dot(1 - omega))\n",
    "plt.plot(sigma, mu)\n",
    "rho = 0.31\n",
    "sigma = np.sqrt((sigma1 ** 2) * omega ** 2 + (sigma2 ** 2) * (1 - omega) ** 2 + 2 * rho * sigma1 * sigma2 * omega.dot(1 - omega))\n",
    "plt.plot(sigma, mu)\n",
    "plt.show()"
   ]
  }
 ],
 "metadata": {
  "kernelspec": {
   "display_name": "Python 3",
   "language": "python",
   "name": "python3"
  },
  "language_info": {
   "codemirror_mode": {
    "name": "ipython",
    "version": 3
   },
   "file_extension": ".py",
   "mimetype": "text/x-python",
   "name": "python",
   "nbconvert_exporter": "python",
   "pygments_lexer": "ipython3",
   "version": "3.8.3"
  }
 },
 "nbformat": 4,
 "nbformat_minor": 4
}
