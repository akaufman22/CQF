{
 "cells": [
  {
   "cell_type": "code",
   "execution_count": 1,
   "metadata": {},
   "outputs": [],
   "source": [
    "import numpy as np\n",
    "import matplotlib.pyplot as plt\n",
    "from math import sqrt, log"
   ]
  },
  {
   "cell_type": "code",
   "execution_count": 9,
   "metadata": {},
   "outputs": [],
   "source": [
    "mu1 = 0.1\n",
    "mu2 = 0.2\n",
    "sigma1 = 0.2\n",
    "sigma2 = 0.3\n",
    "rho = 0.3\n",
    "r = 0.05"
   ]
  },
  {
   "cell_type": "code",
   "execution_count": 28,
   "metadata": {},
   "outputs": [],
   "source": [
    "omega = np.linspace(0,1, 101)"
   ]
  },
  {
   "cell_type": "code",
   "execution_count": 29,
   "metadata": {},
   "outputs": [],
   "source": [
    "mu = mu1 * omega + mu2 * (1 - omega)\n",
    "sigma = np.sqrt((sigma1 ** 2) * omega ** 2 + (sigma2 ** 2) * (1 - omega) ** 2 + 2 * rho * sigma1 * sigma2 * omega.dot(1 - omega))"
   ]
  },
  {
   "cell_type": "code",
   "execution_count": 30,
   "metadata": {},
   "outputs": [
    {
     "data": {
      "text/plain": [
       "[<matplotlib.lines.Line2D at 0x7f7d3cfac730>]"
      ]
     },
     "execution_count": 30,
     "metadata": {},
     "output_type": "execute_result"
    },
    {
     "data": {
      "image/png": "[encoded data removed]",
      "text/plain": [
       "<Figure size 432x288 with 1 Axes>"
      ]
     },
     "metadata": {
      "needs_background": "light"
     },
     "output_type": "display_data"
    }
   ],
   "source": [
    "plt.plot(sigma, mu)"
   ]
  },
  {
   "cell_type": "code",
   "execution_count": 31,
   "metadata": {},
   "outputs": [
    {
     "data": {
      "text/plain": [
       "[<matplotlib.lines.Line2D at 0x7f7d3d0d8ac0>]"
      ]
     },
     "execution_count": 31,
     "metadata": {},
     "output_type": "execute_result"
    },
    {
     "data": {
      "image/png": "[encoded data removed]",
      "text/plain": [
       "<Figure size 432x288 with 1 Axes>"
      ]
     },
     "metadata": {
      "needs_background": "light"
     },
     "output_type": "display_data"
    }
   ],
   "source": [
    "plt.plot(omega, ((mu - r) / sigma))"
   ]
  },
  {
   "cell_type": "code",
   "execution_count": 125,
   "metadata": {},
   "outputs": [],
   "source": [
    "mu = np.array([\n",
    "        [0.05], \n",
    "        [0.07], \n",
    "        [0.15], \n",
    "        [0.27],\n",
    "    ])\n",
    "\n",
    "sigma = np.array([\n",
    "        [0.07], \n",
    "        [0.12], \n",
    "        [0.3], \n",
    "        [0.6],\n",
    "    ])\n",
    "\n",
    "rho = np.array([   \n",
    "        [1, 0.8, 0.5, 0.4], \n",
    "        [0.8, 1, 0.7, 0.5], \n",
    "        [0.5, 0.7, 1, 0.8], \n",
    "        [0.4, 0.5, 0.8, 1]\n",
    "    ])"
   ]
  },
  {
   "cell_type": "code",
   "execution_count": 149,
   "metadata": {},
   "outputs": [],
   "source": [
    "cov = np.diag(sigma.flatten()) @ rho @ np.diag(sigma.flatten())\n",
    "I = np.ones(len(mu)).reshape(len(mu), 1)\n",
    "inv_cov = np.linalg.inv(cov)\n",
    "A = I.T @ inv_cov @ I\n",
    "B = I.T @ inv_cov @ mu\n",
    "C = mu.T @ inv_cov @ mu\n",
    "min_variance_p = (1 / A) * inv_cov @ I\n",
    "min_variance_r = B / A\n",
    "min_variance_vol = np.sqrt (min_variance_p.T @ cov @ min_variance_p)"
   ]
  },
  {
   "cell_type": "code",
   "execution_count": 168,
   "metadata": {},
   "outputs": [],
   "source": [
    "m = 0.1\n",
    "omega = (1 / (A * C - B ** 2)) * inv_cov @ ((A * mu - B * I) * m + (C * I - B * mu))\n",
    "vol = np.sqrt(omega.T @ cov @ omega)"
   ]
  },
  {
   "cell_type": "code",
   "execution_count": 150,
   "metadata": {},
   "outputs": [],
   "source": [
    "r = 0.025\n",
    "tangency_p = (1 / (B - A * r)) * inv_cov @ (mu - r * I)\n",
    "omega_r = (m - r) * inv_cov @ (mu - r * I) / ((mu - r * I).T @ inv_cov @ (mu - r * I))\n",
    "vol_r = np.sqrt(omega_r.T @ cov @ omega_r)"
   ]
  },
  {
   "cell_type": "code",
   "execution_count": 152,
   "metadata": {},
   "outputs": [
    {
     "data": {
      "text/plain": [
       "array([[0.16132773]])"
      ]
     },
     "execution_count": 152,
     "metadata": {},
     "output_type": "execute_result"
    }
   ],
   "source": [
    "vol"
   ]
  },
  {
   "cell_type": "code",
   "execution_count": 187,
   "metadata": {},
   "outputs": [],
   "source": [
    "import scipy.optimize as sco\n",
    "\n",
    "def portfolio_variance (w):\n",
    "    return w.T @ cov @ w\n",
    "\n",
    "def neg_sharpe_ratio(w):\n",
    "    return (-1) * (w.T @ mu - r) / sqrt (portfolio_variance(w))"
   ]
  },
  {
   "cell_type": "code",
   "execution_count": 183,
   "metadata": {},
   "outputs": [
    {
     "data": {
      "text/plain": [
       "     fun: 0.004178085953590705\n",
       "     jac: array([0.00835617, 0.00835617, 0.00835617, 0.00835617])\n",
       " message: 'Optimization terminated successfully'\n",
       "    nfev: 90\n",
       "     nit: 18\n",
       "    njev: 18\n",
       "  status: 0\n",
       " success: True\n",
       "       x: array([ 1.27488666, -0.26311262,  0.01633934, -0.02811338])"
      ]
     },
     "execution_count": 183,
     "metadata": {},
     "output_type": "execute_result"
    }
   ],
   "source": [
    "cons = ({'type': 'eq', 'fun': lambda x: x.T @ I - 1})\n",
    "bnds = tuple((-5, 5) for x in range(len(mu)))\n",
    "initial_w = np.array(len(mu)*[1./len(mu)])\n",
    "\n",
    "sco.minimize(portfolio_variance, initial_w, method='SLSQP', bounds=bnds, constraints=cons, tol=1e-15)"
   ]
  },
  {
   "cell_type": "code",
   "execution_count": 184,
   "metadata": {},
   "outputs": [
    {
     "data": {
      "text/plain": [
       "     fun: 0.02602663722503283\n",
       "     jac: array([0.01552534, 0.03013651, 0.08858121, 0.17624826])\n",
       " message: 'Optimization terminated successfully'\n",
       "    nfev: 55\n",
       "     nit: 11\n",
       "    njev: 11\n",
       "  status: 0\n",
       " success: True\n",
       "       x: array([0.52841211, 0.17288806, 0.15976436, 0.13893547])"
      ]
     },
     "execution_count": 184,
     "metadata": {},
     "output_type": "execute_result"
    }
   ],
   "source": [
    "cons = ({'type': 'eq', 'fun': lambda x: x.T @ mu - m},\n",
    "        {'type': 'eq', 'fun': lambda x: x.T @ I - 1})\n",
    "bnds = tuple((-5, 5) for x in range(len(mu)))\n",
    "initial_w = np.array(len(mu)*[1./len(mu)])\n",
    "\n",
    "sco.minimize(portfolio_variance, initial_w, method='SLSQP', bounds=bnds, constraints=cons, tol=1e-15)"
   ]
  },
  {
   "cell_type": "code",
   "execution_count": 188,
   "metadata": {},
   "outputs": [
    {
     "data": {
      "text/plain": [
       "     fun: array([-0.46791902])\n",
       "     jac: array([-0.19420321, -0.19420321, -0.19420319, -0.19420318])\n",
       " message: 'Optimization terminated successfully'\n",
       "    nfev: 88\n",
       "     nit: 17\n",
       "    njev: 17\n",
       "  status: 0\n",
       " success: True\n",
       "       x: array([0.71267118, 0.06526608, 0.12436147, 0.09770128])"
      ]
     },
     "execution_count": 188,
     "metadata": {},
     "output_type": "execute_result"
    }
   ],
   "source": [
    "cons = ({'type': 'eq', 'fun': lambda x: x.T @ I - 1})\n",
    "bnds = tuple((-5, 5) for x in range(len(mu)))\n",
    "initial_w = np.array(len(mu)*[1./len(mu)])\n",
    "\n",
    "sco.minimize(neg_sharpe_ratio, initial_w, method='SLSQP', bounds=bnds, constraints=cons, tol=1e-15)"
   ]
  },
  {
   "cell_type": "code",
   "execution_count": 190,
   "metadata": {},
   "outputs": [
    {
     "data": {
      "text/plain": [
       "     fun: 0.02569100733597252\n",
       "     jac: array([0.01712734, 0.03082921, 0.08563669, 0.16784791])\n",
       " message: 'Optimization terminated successfully'\n",
       "    nfev: 111\n",
       "     nit: 22\n",
       "    njev: 22\n",
       "  status: 0\n",
       " success: True\n",
       "       x: array([0.88735247, 0.08126327, 0.15484344, 0.12164861])"
      ]
     },
     "execution_count": 190,
     "metadata": {},
     "output_type": "execute_result"
    }
   ],
   "source": [
    "cons = ({'type': 'eq', 'fun': lambda x: x.T @ mu - m + (1 - x.T @ I) * r})\n",
    "bnds = tuple((-5, 5) for x in range(len(mu)))\n",
    "initial_w = np.array(len(mu)*[1./len(mu)])\n",
    "\n",
    "sco.minimize(portfolio_variance, initial_w, method='SLSQP', bounds=bnds, constraints=cons, tol=1e-15)"
   ]
  }
 ],
 "metadata": {
  "kernelspec": {
   "display_name": "Python 3",
   "language": "python",
   "name": "python3"
  },
  "language_info": {
   "codemirror_mode": {
    "name": "ipython",
    "version": 3
   },
   "file_extension": ".py",
   "mimetype": "text/x-python",
   "name": "python",
   "nbconvert_exporter": "python",
   "pygments_lexer": "ipython3",
   "version": "3.8.3"
  }
 },
 "nbformat": 4,
 "nbformat_minor": 4
}
